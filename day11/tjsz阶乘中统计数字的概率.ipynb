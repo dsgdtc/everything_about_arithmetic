{
 "cells": [
  {
   "cell_type": "code",
   "execution_count": 14,
   "metadata": {},
   "outputs": [
    {
     "name": "stdout",
     "output_type": "stream",
     "text": [
      "[30, 18, 13, 7, 7, 7, 3, 10, 4]\n"
     ]
    },
    {
     "data": {
      "image/png": "[encoded data removed]",
      "text/plain": [
       "<matplotlib.figure.Figure at 0x7f402f1e6d68>"
      ]
     },
     "metadata": {},
     "output_type": "display_data"
    }
   ],
   "source": [
    "# -*- coding: utf-8 -*-\n",
    "\"\"\"\n",
    "本福特定律，也叫第一数字定律\n",
    "100!里，首数字是1的概率\n",
    "\"\"\"\n",
    "\n",
    "__author__ = 'guyu'\n",
    "# import matplotlib\n",
    "# matplotlib.use('Agg')\n",
    "import matplotlib.pyplot as plt\n",
    "\n",
    "\n",
    "def first_digital(x):\n",
    "\n",
    "    while x>= 10:\n",
    "        x //= 10\n",
    "    return x\n",
    "\n",
    "if __name__ == \"__main__\":\n",
    "\n",
    "    n = 1\n",
    "    frequency = [0] * 9\n",
    "    for i in range(1, 100):\n",
    "        n *= i\n",
    "        m = first_digital(n) - 1\n",
    "        frequency[m] += 1\n",
    "    print (frequency)\n",
    "    plt.plot(frequency, 'r-', linewidth=2)\n",
    "    plt.plot(frequency, 'go', markersize=8)\n",
    "    plt.grid(True)\n",
    "    plt.show()\n",
    "\n"
   ]
  },
  {
   "cell_type": "code",
   "execution_count": null,
   "metadata": {
    "collapsed": true
   },
   "outputs": [],
   "source": []
  }
 ],
 "metadata": {
  "kernelspec": {
   "display_name": "Python 3",
   "language": "python",
   "name": "python3"
  },
  "language_info": {
   "codemirror_mode": {
    "name": "ipython",
    "version": 3
   },
   "file_extension": ".py",
   "mimetype": "text/x-python",
   "name": "python",
   "nbconvert_exporter": "python",
   "pygments_lexer": "ipython3",
   "version": "3.6.3"
  }
 },
 "nbformat": 4,
 "nbformat_minor": 2
}
